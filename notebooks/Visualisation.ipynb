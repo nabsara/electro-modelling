{
 "cells": [
  {
   "cell_type": "code",
   "execution_count": 1,
   "metadata": {},
   "outputs": [],
   "source": [
    "import matplotlib.pyplot as plt\n",
    "from torchvision.utils import make_grid\n",
    "import numpy as np\n",
    "from mpl_toolkits.axes_grid1 import make_axes_locatable\n",
    "import librosa\n",
    "import io\n",
    "import pickle5 as pickle\n",
    "import imageio"
   ]
  },
  {
   "cell_type": "code",
   "execution_count": 2,
   "metadata": {},
   "outputs": [],
   "source": [
    "def show_tensor_images(image_tensor, num_images=25, size=(1, 28, 28)):\n",
    "    \"\"\"\n",
    "    Function for visualizing images: Given a tensor of images, number of images, and\n",
    "    size per image, plots and prints the images in an uniform grid.\n",
    "    \"\"\"\n",
    "    image_tensor = (image_tensor + 1) / 2\n",
    "    image_unflat = image_tensor.detach().cpu()\n",
    "    image_grid = make_grid(image_unflat[:num_images], nrow=5)\n",
    "    plt.imshow(image_grid.permute(1, 2, 0).squeeze())\n",
    "    plt.show()\n",
    "\n",
    "\n",
    "def plot_gan_losses(d_loss, g_loss):\n",
    "    fig, ax = plt.subplots(figsize=(10, 8))\n",
    "    ax.plot(d_loss.detach(), label=\"discriminator loss\")\n",
    "    ax.plot(g_loss.detach(), label=\"generator loss\")\n",
    "    ax.set_xlabel(\"n_epochs\")\n",
    "    ax.legend()\n",
    "    ax.grid(True)\n",
    "    plt.show()"
   ]
  },
  {
   "cell_type": "code",
   "execution_count": 3,
   "metadata": {},
   "outputs": [],
   "source": [
    "def plot_spectrogram_mag(STFT_amp,title,fig=None,ax=None):\n",
    "    def add_colorbar(fig,ax,im):\n",
    "        divider = make_axes_locatable(ax)\n",
    "        cax = divider.append_axes('right', size='5%', pad=0.05)\n",
    "        fig.colorbar(im, cax=cax, orientation='vertical')\n",
    "    \n",
    "    if fig is None:\n",
    "        fig,ax=plt.subplots(1,1,figsize=(12,6))\n",
    "    \n",
    "    times = np.linspace(0,2*128/121,STFT_amp.shape[1])\n",
    "    freqs = librosa.mel_frequencies(n_mels=STFT_amp.shape[0], fmin=0.0, fmax=16000/2,htk=True)\n",
    "    \n",
    "    X,Y = np.meshgrid(times,freqs)\n",
    "    \n",
    "    im0 = ax.pcolor(X,Y,STFT_amp,shading='auto',cmap='magma')\n",
    "    \n",
    "    add_colorbar(fig,ax,im0)\n",
    "    labelRow='Temps'\n",
    "    labelCol='Fréquences'\n",
    "    ax.set_xlabel(labelRow)\n",
    "    ax.set_ylabel(labelCol)\n",
    "    ax.set_title(title)"
   ]
  },
  {
   "cell_type": "code",
   "execution_count": 32,
   "metadata": {},
   "outputs": [],
   "source": [
    "def generate_spectro_gif(pkl, title, nb_img, duration, loop):\n",
    "    with open(pkl, 'rb') as f:\n",
    "        x = pickle.load(f)\n",
    "    img = x['img_list']\n",
    "    imgs = []\n",
    "    div = np.round(len(img)/nb_img)+1\n",
    "    for i in range(len(img)):\n",
    "        if i%div==0 :\n",
    "            imgs.append(img[i])\n",
    "    for i in range(len(imgs)):\n",
    "        plot_spectrogram_mag(imgs[i][0],title='Spectro '+str(i),fig=None,ax=None)\n",
    "        plt.savefig('./img'+str(i)+'.png')\n",
    "        plt.clf()\n",
    "        \n",
    "    fp_in = \"img*.png\"\n",
    "    fp_out = title\n",
    "\n",
    "    img, *imgs = [Image.open(f) for f in sorted(glob.glob(fp_in))]\n",
    "    img.save(fp=fp_out, format='GIF', append_images=imgs,\n",
    "             save_all=True, duration=duration, loop=loop)"
   ]
  },
  {
   "cell_type": "code",
   "execution_count": 33,
   "metadata": {},
   "outputs": [
    {
     "data": {
      "text/plain": [
       "<Figure size 864x432 with 0 Axes>"
      ]
     },
     "metadata": {},
     "output_type": "display_data"
    },
    {
     "data": {
      "text/plain": [
       "<Figure size 864x432 with 0 Axes>"
      ]
     },
     "metadata": {},
     "output_type": "display_data"
    },
    {
     "data": {
      "text/plain": [
       "<Figure size 864x432 with 0 Axes>"
      ]
     },
     "metadata": {},
     "output_type": "display_data"
    },
    {
     "data": {
      "text/plain": [
       "<Figure size 864x432 with 0 Axes>"
      ]
     },
     "metadata": {},
     "output_type": "display_data"
    },
    {
     "data": {
      "text/plain": [
       "<Figure size 864x432 with 0 Axes>"
      ]
     },
     "metadata": {},
     "output_type": "display_data"
    },
    {
     "data": {
      "text/plain": [
       "<Figure size 864x432 with 0 Axes>"
      ]
     },
     "metadata": {},
     "output_type": "display_data"
    },
    {
     "data": {
      "text/plain": [
       "<Figure size 864x432 with 0 Axes>"
      ]
     },
     "metadata": {},
     "output_type": "display_data"
    },
    {
     "data": {
      "text/plain": [
       "<Figure size 864x432 with 0 Axes>"
      ]
     },
     "metadata": {},
     "output_type": "display_data"
    },
    {
     "data": {
      "text/plain": [
       "<Figure size 864x432 with 0 Axes>"
      ]
     },
     "metadata": {},
     "output_type": "display_data"
    },
    {
     "data": {
      "text/plain": [
       "<Figure size 864x432 with 0 Axes>"
      ]
     },
     "metadata": {},
     "output_type": "display_data"
    }
   ],
   "source": [
    "generate_spectro_gif(pkl='results_loss_techno__wgan__z_256__lr_0.0001__k_5__e_20.pkl', title='test.gif',nb_img=10, duration=200, loop=0)"
   ]
  }
 ],
 "metadata": {
  "kernelspec": {
   "display_name": "Python 3",
   "language": "python",
   "name": "python3"
  },
  "language_info": {
   "codemirror_mode": {
    "name": "ipython",
    "version": 3
   },
   "file_extension": ".py",
   "mimetype": "text/x-python",
   "name": "python",
   "nbconvert_exporter": "python",
   "pygments_lexer": "ipython3",
   "version": "3.7.4"
  }
 },
 "nbformat": 4,
 "nbformat_minor": 4
}
